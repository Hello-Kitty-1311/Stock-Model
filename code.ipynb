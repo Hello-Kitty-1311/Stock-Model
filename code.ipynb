{
 "cells": [
  {
   "cell_type": "markdown",
   "metadata": {},
   "source": [
    "# Stock Price Prediction System\n",
    "\n",
    "This notebook implements an advanced stock price prediction system using machine learning models including XGBoost ensemble and LSTM neural networks."
   ]
  },
  {
   "cell_type": "markdown",
   "metadata": {},
   "source": [
    "## Import Libraries"
   ]
  },
  {
   "cell_type": "code",
   "execution_count": 1,
   "metadata": {},
   "outputs": [
    {
     "name": "stderr",
     "output_type": "stream",
     "text": [
      "WARNING: Ignoring invalid distribution ~ip (C:\\Python312\\Lib\\site-packages)\n",
      "WARNING: Ignoring invalid distribution ~ip (C:\\Python312\\Lib\\site-packages)\n",
      "WARNING: Ignoring invalid distribution ~ip (C:\\Python312\\Lib\\site-packages)\n"
     ]
    }
   ],
   "source": [
    "!pip install yfinance xgboost tensorflow scikit-learn pandas numpy matplotlib plotly seaborn --quiet"
   ]
  },
  {
   "cell_type": "code",
   "execution_count": 2,
   "metadata": {},
   "outputs": [],
   "source": [
    "import yfinance as yf\n",
    "import pandas as pd\n",
    "import numpy as np\n",
    "import matplotlib.pyplot as plt\n",
    "import plotly.graph_objects as go\n",
    "import plotly.express as px\n",
    "from plotly.subplots import make_subplots\n",
    "import warnings\n",
    "warnings.filterwarnings('ignore')"
   ]
  },
  {
   "cell_type": "code",
   "execution_count": 3,
   "metadata": {},
   "outputs": [],
   "source": [
    "from sklearn.preprocessing import MinMaxScaler, StandardScaler, RobustScaler\n",
    "from sklearn.metrics import mean_squared_error, mean_absolute_error, r2_score\n",
    "from sklearn.model_selection import train_test_split, TimeSeriesSplit\n",
    "import xgboost as xgb\n",
    "from sklearn.ensemble import RandomForestRegressor, GradientBoostingRegressor\n",
    "from sklearn.linear_model import Ridge, ElasticNet"
   ]
  },
  {
   "cell_type": "code",
   "execution_count": 4,
   "metadata": {},
   "outputs": [
    {
     "name": "stdout",
     "output_type": "stream",
     "text": [
      "TensorFlow available for LSTM models\n"
     ]
    }
   ],
   "source": [
    "try:\n",
    "    import tensorflow as tf\n",
    "    from tensorflow.keras.models import Sequential\n",
    "    from tensorflow.keras.layers import LSTM, Dense, Dropout, BatchNormalization, GRU\n",
    "    from tensorflow.keras.optimizers import Adam\n",
    "    from tensorflow.keras.callbacks import EarlyStopping, ReduceLROnPlateau\n",
    "    LSTM_AVAILABLE = True\n",
    "    print(\"TensorFlow available for LSTM models\")\n",
    "except ImportError:\n",
    "    print(\"TensorFlow not available. LSTM model will be skipped.\")\n",
    "    LSTM_AVAILABLE = False"
   ]
  },
  {
   "cell_type": "code",
   "execution_count": 5,
   "metadata": {},
   "outputs": [],
   "source": [
    "from datetime import datetime, timedelta"
   ]
  },
  {
   "cell_type": "markdown",
   "metadata": {},
   "source": [
    "## Configuration"
   ]
  },
  {
   "cell_type": "code",
   "execution_count": 6,
   "metadata": {},
   "outputs": [],
   "source": [
    "# Configuration parameters\n",
    "STOCK_TICKER = \"AAPL\"  # Default stock ticker\n",
    "MODEL_CHOICE = 1  # 1: XGBoost, 2: LSTM, 3: Both\n",
    "FORECAST_HORIZON = 1  # Days to predict ahead"
   ]
  },
  {
   "cell_type": "markdown",
   "metadata": {},
   "source": [
    "## Data Fetching Functions"
   ]
  },
  {
   "cell_type": "code",
   "execution_count": null,
   "metadata": {},
   "outputs": [
    {
     "name": "stdout",
     "output_type": "stream",
     "text": [
      "Testing data fetching...\n"
     ]
    },
    {
     "name": "stderr",
     "output_type": "stream",
     "text": [
      "$AAPL: possibly delisted; no price data found  (period=1y)\n"
     ]
    },
    {
     "name": "stdout",
     "output_type": "stream",
     "text": [
      "No data found for AAPL\n",
      "No data available for visualization\n"
     ]
    },
    {
     "data": {
      "text/plain": [
       "<Figure size 1200x600 with 0 Axes>"
      ]
     },
     "metadata": {},
     "output_type": "display_data"
    }
   ],
   "source": [
    "## Data Fetching Functions\n",
    "\n",
    "def fetch_stock_data(ticker_symbol, period=\"max\"):\n",
    "    \"\"\"Fetch stock data from Yahoo Finance\"\"\"\n",
    "    ticker = yf.Ticker(ticker_symbol)\n",
    "    data = ticker.history(period=period)\n",
    "    \n",
    "    if data.empty:\n",
    "        print(f\"No data found for {ticker_symbol}\")\n",
    "        return None\n",
    "    \n",
    "    info = ticker.info\n",
    "    company_name = info.get('longName', ticker_symbol)\n",
    "    \n",
    "    print(f\"\\nFetched data for {company_name} ({ticker_symbol})\")\n",
    "    print(f\"Data range: {data.index[0].date()} to {data.index[-1].date()}\")\n",
    "    print(f\"Total trading days: {len(data)}\")\n",
    "    \n",
    "    return data, company_name\n",
    "\n",
    "def get_valid_ticker():\n",
    "    \"\"\"Get valid ticker input from user\"\"\"\n",
    "    while True:\n",
    "        stock = input(\"Enter a valid stock ticker (e.g., AAPL, TSLA, MSFT): \").upper()\n",
    "        try:\n",
    "            test = yf.Ticker(stock)\n",
    "            if test.history(period=\"1d\").empty:\n",
    "                print(\"Invalid ticker. Please try again.\")\n",
    "            else:\n",
    "                return stock\n",
    "        except Exception as e:\n",
    "            print(f\"Error validating ticker: {e}\")\n",
    "            print(\"Invalid input. Please try again.\")\n",
    "\n",
    "def get_model_choice():\n",
    "    \"\"\"Get model choice from user\"\"\"\n",
    "    print(\"\\nChoose prediction model:\")\n",
    "    print(\"1. XGBoost (Less time, High accuracy)\")\n",
    "    print(\"2. LSTM (More time, Most accuracy)\")  \n",
    "    print(\"3. Both (Conclusion with both models)\")\n",
    "    \n",
    "    while True:\n",
    "        choice = input(\"Enter your choice (1/2/3): \")\n",
    "        if choice in ['1', '2', '3']:\n",
    "            return int(choice)\n",
    "        print(\"Invalid choice. Please enter 1, 2, or 3.\")\n",
    "\n",
    "## Data Exploration\n",
    "\n",
    "# Test data fetching\n",
    "print(\"Testing data fetching...\")\n",
    "sample_data = fetch_stock_data(\"AAPL\", \"1y\")\n",
    "if sample_data is not None:\n",
    "    data, company_name = sample_data\n",
    "    print(f\"\\nSample data shape: {data.shape}\")\n",
    "    print(f\"Columns: {list(data.columns)}\")\n",
    "    print(f\"\\nFirst few rows:\")\n",
    "    print(data.head())\n",
    "    print(f\"\\nLast few rows:\")\n",
    "    print(data.tail())\n",
    "    print(f\"\\nBasic statistics:\")\n",
    "    print(data.describe())\n",
    "\n",
    "## Basic Visualization\n",
    "\n",
    "plt.figure(figsize=(12, 6))\n",
    "if sample_data is not None:\n",
    "    data, _ = sample_data\n",
    "    plt.plot(data.index, data['Close'], label='Close Price', linewidth=2)\n",
    "    plt.title(f'{company_name} Stock Price - Last Year')\n",
    "    plt.xlabel('Date')\n",
    "    plt.ylabel('Price ($)')\n",
    "    plt.legend()\n",
    "    plt.grid(True, alpha=0.3)\n",
    "    plt.tight_layout()\n",
    "    plt.show()\n",
    "else:\n",
    "    print(\"No data available for visualization\")"
   ]
  },
  {
   "cell_type": "markdown",
   "metadata": {},
   "source": [
    "## Technical Indicators"
   ]
  },
  {
   "cell_type": "code",
   "execution_count": 14,
   "metadata": {},
   "outputs": [],
   "source": [
    "## Technical Indicators\n",
    "\n",
    "def calculate_rsi(prices, window=14):\n",
    "    \"\"\"Calculate Relative Strength Index\"\"\"\n",
    "    delta = prices.diff()\n",
    "    gain = (delta.where(delta > 0, 0)).rolling(window=window).mean()\n",
    "    loss = (-delta.where(delta < 0, 0)).rolling(window=window).mean()\n",
    "    rs = gain / loss\n",
    "    rsi = 100 - (100 / (1 + rs))\n",
    "    return rsi\n",
    "\n",
    "def calculate_macd(prices, fast=12, slow=26, signal=9):\n",
    "    \"\"\"Calculate MACD indicator\"\"\"\n",
    "    ema_fast = prices.ewm(span=fast).mean()\n",
    "    ema_slow = prices.ewm(span=slow).mean()\n",
    "    macd = ema_fast - ema_slow\n",
    "    macd_signal = macd.ewm(span=signal).mean()\n",
    "    macd_hist = macd - macd_signal\n",
    "    return macd, macd_signal, macd_hist\n",
    "\n",
    "def calculate_bollinger_bands(prices, window=20, num_std=2):\n",
    "    \"\"\"Calculate Bollinger Bands\"\"\"\n",
    "    rolling_mean = prices.rolling(window=window).mean()\n",
    "    rolling_std = prices.rolling(window=window).std()\n",
    "    bb_upper = rolling_mean + (rolling_std * num_std)\n",
    "    bb_lower = rolling_mean - (rolling_std * num_std)\n",
    "    return bb_upper, rolling_mean, bb_lower\n",
    "\n",
    "def calculate_stochastic(high, low, close, k_window=14, d_window=3):\n",
    "    \"\"\"Calculate Stochastic Oscillator\"\"\"\n",
    "    lowest_low = low.rolling(window=k_window).min()\n",
    "    highest_high = high.rolling(window=k_window).max()\n",
    "    stoch_k = 100 * ((close - lowest_low) / (highest_high - lowest_low))\n",
    "    stoch_d = stoch_k.rolling(window=d_window).mean()\n",
    "    return stoch_k, stoch_d\n",
    "\n",
    "def calculate_atr(high, low, close, window=14):\n",
    "    \"\"\"Calculate Average True Range\"\"\"\n",
    "    tr1 = high - low\n",
    "    tr2 = abs(high - close.shift())\n",
    "    tr3 = abs(low - close.shift())\n",
    "    true_range = pd.concat([tr1, tr2, tr3], axis=1).max(axis=1)\n",
    "    atr = true_range.rolling(window=window).mean()\n",
    "    return atr\n",
    "\n",
    "def calculate_williams_r(high, low, close, window=14):\n",
    "    \"\"\"Calculate Williams %R\"\"\"\n",
    "    highest_high = high.rolling(window=window).max()\n",
    "    lowest_low = low.rolling(window=window).min()\n",
    "    williams_r = -100 * ((highest_high - close) / (highest_high - lowest_low))\n",
    "    return williams_r\n",
    "\n",
    "def add_technical_indicators(data):\n",
    "    \"\"\"Add all technical indicators to the dataset\"\"\"\n",
    "    df = data.copy()\n",
    "    \n",
    "    # Basic price features\n",
    "    df['Returns'] = df['Close'].pct_change()\n",
    "    df['Log_Returns'] = np.log(df['Close'] / df['Close'].shift(1))\n",
    "    df['High_Low_Pct'] = (df['High'] - df['Low']) / df['Close']\n",
    "    df['Open_Close_Pct'] = (df['Close'] - df['Open']) / df['Open']\n",
    "    df['Price_Volume'] = df['Close'] * df['Volume']\n",
    "    df['Volume_Rate'] = df['Volume'] / df['Volume'].rolling(window=20).mean()\n",
    "    \n",
    "    # Moving averages\n",
    "    for period in [3, 5, 10, 20, 50, 100]:\n",
    "        df[f'MA_{period}'] = df['Close'].rolling(window=period).mean()\n",
    "        df[f'MA_{period}_ratio'] = df['Close'] / df[f'MA_{period}']\n",
    "        df[f'EMA_{period}'] = df['Close'].ewm(span=period).mean()\n",
    "        df[f'EMA_{period}_ratio'] = df['Close'] / df[f'EMA_{period}']\n",
    "        df[f'Close_MA_{period}_diff'] = df['Close'] - df[f'MA_{period}']\n",
    "    \n",
    "    # Technical indicators\n",
    "    df['RSI'] = calculate_rsi(df['Close'])\n",
    "    df['RSI_7'] = calculate_rsi(df['Close'], 7)\n",
    "    df['RSI_21'] = calculate_rsi(df['Close'], 21)\n",
    "    \n",
    "    df['MACD'], df['MACD_Signal'], df['MACD_Hist'] = calculate_macd(df['Close'])\n",
    "    \n",
    "    df['BB_Upper'], df['BB_Middle'], df['BB_Lower'] = calculate_bollinger_bands(df['Close'])\n",
    "    df['BB_Width'] = (df['BB_Upper'] - df['BB_Lower']) / df['BB_Middle']\n",
    "    df['BB_Position'] = (df['Close'] - df['BB_Lower']) / (df['BB_Upper'] - df['BB_Lower'])\n",
    "    \n",
    "    df['Stoch_K'], df['Stoch_D'] = calculate_stochastic(df['High'], df['Low'], df['Close'])\n",
    "    df['ATR'] = calculate_atr(df['High'], df['Low'], df['Close'])\n",
    "    df['Williams_R'] = calculate_williams_r(df['High'], df['Low'], df['Close'])\n",
    "    \n",
    "    # Volume and volatility indicators\n",
    "    for period in [5, 10, 20]:\n",
    "        df[f'Vol_MA_{period}'] = df['Volume'].rolling(window=period).mean()\n",
    "        df[f'Vol_Std_{period}'] = df['Volume'].rolling(window=period).std()\n",
    "        df[f'Price_Volatility_{period}'] = df['Close'].rolling(window=period).std()\n",
    "        df[f'High_MA_{period}'] = df['High'].rolling(window=period).mean()\n",
    "        df[f'Low_MA_{period}'] = df['Low'].rolling(window=period).mean()\n",
    "    \n",
    "    return df\n",
    "\n",
    "## Test Technical Indicators\n",
    "\n",
    "if sample_data is not None:\n",
    "    data, company_name = sample_data\n",
    "    print(\"Adding technical indicators...\")\n",
    "    data_with_indicators = add_technical_indicators(data)\n",
    "    print(f\"Dataset shape after adding indicators: {data_with_indicators.shape}\")\n",
    "    print(f\"New columns added: {len(data_with_indicators.columns) - len(data.columns)}\")\n",
    "    \n",
    "    # Display some indicators\n",
    "    print(\"\\nSample technical indicators:\")\n",
    "    indicator_cols = ['RSI', 'MACD', 'BB_Position', 'Stoch_K', 'ATR']\n",
    "    available_cols = [col for col in indicator_cols if col in data_with_indicators.columns]\n",
    "    if available_cols:\n",
    "        print(data_with_indicators[available_cols].tail())"
   ]
  },
  {
   "cell_type": "markdown",
   "metadata": {},
   "source": [
    "## Model Training Functions"
   ]
  },
  {
   "cell_type": "code",
   "execution_count": 9,
   "metadata": {},
   "outputs": [],
   "source": [
    "def train_xgboost_model(data, forecast_horizon=1):\n",
    "    \"\"\"Train XGBoost ensemble model\"\"\"\n",
    "    # TODO: Implement XGBoost training\n",
    "    pass"
   ]
  },
  {
   "cell_type": "code",
   "execution_count": 10,
   "metadata": {},
   "outputs": [],
   "source": [
    "def train_lstm_model(data, forecast_horizon=1):\n",
    "    \"\"\"Train LSTM model\"\"\"\n",
    "    # TODO: Implement LSTM training\n",
    "    pass"
   ]
  },
  {
   "cell_type": "markdown",
   "metadata": {},
   "source": [
    "## Visualization Functions"
   ]
  },
  {
   "cell_type": "code",
   "execution_count": 11,
   "metadata": {},
   "outputs": [],
   "source": [
    "def create_interactive_plot(data_with_signals, company_name, ticker_symbol):\n",
    "    \"\"\"Create interactive Plotly visualization\"\"\"\n",
    "    # TODO: Implement interactive plotting\n",
    "    pass"
   ]
  },
  {
   "cell_type": "markdown",
   "metadata": {},
   "source": [
    "## Main Execution"
   ]
  },
  {
   "cell_type": "code",
   "execution_count": 12,
   "metadata": {},
   "outputs": [
    {
     "name": "stdout",
     "output_type": "stream",
     "text": [
      "Stock Prediction System initialized\n"
     ]
    }
   ],
   "source": [
    "# Main execution will be implemented in later commits\n",
    "print(\"Stock Prediction System initialized\")"
   ]
  }
 ],
 "metadata": {
  "kernelspec": {
   "display_name": "Python 3",
   "language": "python",
   "name": "python3"
  },
  "language_info": {
   "codemirror_mode": {
    "name": "ipython",
    "version": 3
   },
   "file_extension": ".py",
   "mimetype": "text/x-python",
   "name": "python",
   "nbconvert_exporter": "python",
   "pygments_lexer": "ipython3",
   "version": "3.12.5"
  }
 },
 "nbformat": 4,
 "nbformat_minor": 4
}
